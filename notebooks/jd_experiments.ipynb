{
 "cells": [
  {
   "cell_type": "code",
   "execution_count": null,
   "id": "7667f03b",
   "metadata": {},
   "outputs": [
    {
     "name": "stdout",
     "output_type": "stream",
     "text": [
      "utils package initialized\n",
      "Scripts package initialized\n"
     ]
    },
    {
     "ename": "OpenAIError",
     "evalue": "The api_key client option must be set either by passing api_key to the client or by setting the OPENAI_API_KEY environment variable",
     "output_type": "error",
     "traceback": [
      "\u001b[31m---------------------------------------------------------------------------\u001b[39m",
      "\u001b[31mOpenAIError\u001b[39m                               Traceback (most recent call last)",
      "\u001b[36mCell\u001b[39m\u001b[36m \u001b[39m\u001b[32mIn[3]\u001b[39m\u001b[32m, line 8\u001b[39m\n\u001b[32m      5\u001b[39m sys.path.append(os.path.abspath(\u001b[33m\"\u001b[39m\u001b[33m..\u001b[39m\u001b[33m\"\u001b[39m))\n\u001b[32m      7\u001b[39m \u001b[38;5;28;01mfrom\u001b[39;00m\u001b[38;5;250m \u001b[39m\u001b[34;01mutils\u001b[39;00m\u001b[34;01m.\u001b[39;00m\u001b[34;01manalysis_utils\u001b[39;00m\u001b[38;5;250m \u001b[39m\u001b[38;5;28;01mimport\u001b[39;00m get_top_course_counts_across_rankings\n\u001b[32m----> \u001b[39m\u001b[32m8\u001b[39m \u001b[38;5;28;01mfrom\u001b[39;00m\u001b[38;5;250m \u001b[39m\u001b[34;01mscripts\u001b[39;00m\u001b[34;01m.\u001b[39;00m\u001b[34;01mjd_processor\u001b[39;00m\u001b[38;5;250m \u001b[39m\u001b[38;5;28;01mimport\u001b[39;00m match_jd_to_courses\n",
      "\u001b[36mFile \u001b[39m\u001b[32m~/Library/CloudStorage/GoogleDrive-hbothra1@gmail.com/My Drive/Projects/studentAdvisorProject/scripts/jd_processor.py:3\u001b[39m\n\u001b[32m      1\u001b[39m \u001b[38;5;28;01mfrom\u001b[39;00m\u001b[38;5;250m \u001b[39m\u001b[34;01mopenai\u001b[39;00m\u001b[38;5;250m \u001b[39m\u001b[38;5;28;01mimport\u001b[39;00m OpenAI\n\u001b[32m----> \u001b[39m\u001b[32m3\u001b[39m client = \u001b[43mOpenAI\u001b[49m\u001b[43m(\u001b[49m\u001b[43m)\u001b[49m\n\u001b[32m      4\u001b[39m \u001b[38;5;28;01mfrom\u001b[39;00m\u001b[38;5;250m \u001b[39m\u001b[34;01mutils\u001b[39;00m\u001b[34;01m.\u001b[39;00m\u001b[34;01membedding_utils\u001b[39;00m\u001b[38;5;250m \u001b[39m\u001b[38;5;28;01mimport\u001b[39;00m get_embedding, compute_similarity_scores\n\u001b[32m      6\u001b[39m \u001b[38;5;28;01mimport\u001b[39;00m\u001b[38;5;250m \u001b[39m\u001b[34;01mlogging\u001b[39;00m\n",
      "\u001b[36mFile \u001b[39m\u001b[32m/Library/Frameworks/Python.framework/Versions/3.13/lib/python3.13/site-packages/openai/_client.py:110\u001b[39m, in \u001b[36mOpenAI.__init__\u001b[39m\u001b[34m(self, api_key, organization, project, base_url, websocket_base_url, timeout, max_retries, default_headers, default_query, http_client, _strict_response_validation)\u001b[39m\n\u001b[32m    108\u001b[39m     api_key = os.environ.get(\u001b[33m\"\u001b[39m\u001b[33mOPENAI_API_KEY\u001b[39m\u001b[33m\"\u001b[39m)\n\u001b[32m    109\u001b[39m \u001b[38;5;28;01mif\u001b[39;00m api_key \u001b[38;5;129;01mis\u001b[39;00m \u001b[38;5;28;01mNone\u001b[39;00m:\n\u001b[32m--> \u001b[39m\u001b[32m110\u001b[39m     \u001b[38;5;28;01mraise\u001b[39;00m OpenAIError(\n\u001b[32m    111\u001b[39m         \u001b[33m\"\u001b[39m\u001b[33mThe api_key client option must be set either by passing api_key to the client or by setting the OPENAI_API_KEY environment variable\u001b[39m\u001b[33m\"\u001b[39m\n\u001b[32m    112\u001b[39m     )\n\u001b[32m    113\u001b[39m \u001b[38;5;28mself\u001b[39m.api_key = api_key\n\u001b[32m    115\u001b[39m \u001b[38;5;28;01mif\u001b[39;00m organization \u001b[38;5;129;01mis\u001b[39;00m \u001b[38;5;28;01mNone\u001b[39;00m:\n",
      "\u001b[31mOpenAIError\u001b[39m: The api_key client option must be set either by passing api_key to the client or by setting the OPENAI_API_KEY environment variable"
     ]
    }
   ],
   "source": [
    "import sys\n",
    "import os\n",
    "import openai\n",
    "\n",
    "openai.api_key = os.getenv(\"OPENAI_API_KEY\")\n",
    "# Add the parent directory of the notebook to the Python path\n",
    "sys.path.append(os.path.abspath(\"..\"))\n",
    "\n",
    "from utils.analysis_utils import get_top_course_counts_across_rankings\n",
    "from scripts.jd_processor import match_jd_to_courses\n"
   ]
  },
  {
   "cell_type": "code",
   "execution_count": null,
   "id": "8f058eae",
   "metadata": {},
   "outputs": [
    {
     "ename": "ImportError",
     "evalue": "cannot import name 'update_course_data_from_json' from 'embedding_utils' (/Users/hemantbothra/Library/CloudStorage/GoogleDrive-hbothra1@gmail.com/My Drive/Projects/studentAdvisorProject/utils/embedding_utils.py)",
     "output_type": "error",
     "traceback": [
      "\u001b[31m---------------------------------------------------------------------------\u001b[39m",
      "\u001b[31mImportError\u001b[39m                               Traceback (most recent call last)",
      "\u001b[36mCell\u001b[39m\u001b[36m \u001b[39m\u001b[32mIn[16]\u001b[39m\u001b[32m, line 3\u001b[39m\n\u001b[32m      1\u001b[39m \u001b[38;5;28;01mimport\u001b[39;00m\u001b[38;5;250m \u001b[39m\u001b[34;01msys\u001b[39;00m\n\u001b[32m      2\u001b[39m sys.path.append(os.path.abspath(\u001b[33m\"\u001b[39m\u001b[33m../utils\u001b[39m\u001b[33m\"\u001b[39m))  \u001b[38;5;66;03m# Add the parent directory to the Python path\u001b[39;00m\n\u001b[32m----> \u001b[39m\u001b[32m3\u001b[39m \u001b[38;5;28;01mfrom\u001b[39;00m\u001b[38;5;250m \u001b[39m\u001b[34;01membedding_utils\u001b[39;00m\u001b[38;5;250m \u001b[39m\u001b[38;5;28;01mimport\u001b[39;00m update_course_data_from_json\n\u001b[32m      4\u001b[39m \u001b[38;5;28;01mimport\u001b[39;00m\u001b[38;5;250m \u001b[39m\u001b[34;01mjson\u001b[39;00m\n\u001b[32m      6\u001b[39m \u001b[38;5;66;03m# Load the dictionary from the JSON file\u001b[39;00m\n",
      "\u001b[31mImportError\u001b[39m: cannot import name 'update_course_data_from_json' from 'embedding_utils' (/Users/hemantbothra/Library/CloudStorage/GoogleDrive-hbothra1@gmail.com/My Drive/Projects/studentAdvisorProject/utils/embedding_utils.py)"
     ]
    }
   ],
   "source": [
    "import sys\n",
    "sys.path.append(os.path.abspath(\"../utils/\"))  # Add the parent directory to the Python path\n",
    "from embedding_utils import update_course_data_from_json\n",
    "import json\n",
    "\n",
    "# Load the dictionary from the JSON file\n",
    "with open('course_data_forembedding_temp_withfallback_5.json', 'r') as file:\n",
    "    course_data = json.load(file)\n",
    "\n",
    "# Define the database path\n",
    "db_path = \"/Users/hemantbothra/Library/CloudStorage/GoogleDrive-hbothra1@gmail.com/My Drive/Projects/studentAdvisorProject/course_database.db\"\n",
    "\n",
    "# Update course data in the database\n",
    "update_course_data_from_json(course_data, db_path)"
   ]
  },
  {
   "cell_type": "code",
   "execution_count": 13,
   "id": "72655ef8",
   "metadata": {},
   "outputs": [
    {
     "name": "stderr",
     "output_type": "stream",
     "text": [
      "2025-04-20 23:35:09,062 - embedding_utils.py: jd_processor.py: Calculating similarity for course: CSE 121\n",
      "2025-04-20 23:35:09,064 - embedding_utils.py: jd_processor.py: Calculating similarity for course: CSE 122\n",
      "2025-04-20 23:35:09,065 - embedding_utils.py: jd_processor.py: Calculating similarity for course: CSE 123\n",
      "2025-04-20 23:35:09,065 - embedding_utils.py: jd_processor.py: Calculating similarity for course: CSE 143\n",
      "2025-04-20 23:35:09,066 - embedding_utils.py: jd_processor.py: Calculating similarity for course: CSE 163\n",
      "2025-04-20 23:35:09,067 - embedding_utils.py: jd_processor.py: Calculating similarity for course: CSE 160\n",
      "2025-04-20 23:35:09,067 - embedding_utils.py: jd_processor.py: Calculating similarity for course: CSE 180\n",
      "2025-04-20 23:35:09,068 - embedding_utils.py: jd_processor.py: Calculating similarity for course: CSE 312\n",
      "2025-04-20 23:35:09,069 - embedding_utils.py: jd_processor.py: Calculating similarity for course: CSE 331\n",
      "2025-04-20 23:35:09,069 - embedding_utils.py: jd_processor.py: Calculating similarity for course: CSE 332\n",
      "2025-04-20 23:35:09,070 - embedding_utils.py: jd_processor.py: Calculating similarity for course: CSE 344\n",
      "2025-04-20 23:35:09,070 - embedding_utils.py: jd_processor.py: Calculating similarity for course: CSE 351\n",
      "2025-04-20 23:35:09,071 - embedding_utils.py: jd_processor.py: Calculating similarity for course: CSE 369\n",
      "2025-04-20 23:35:09,072 - embedding_utils.py: jd_processor.py: Calculating similarity for course: CSE 371\n",
      "2025-04-20 23:35:09,073 - embedding_utils.py: jd_processor.py: Calculating similarity for course: CSE 390Z\n",
      "2025-04-20 23:35:09,073 - embedding_utils.py: jd_processor.py: Calculating similarity for course: CSE 391\n",
      "2025-04-20 23:35:09,074 - embedding_utils.py: jd_processor.py: Calculating similarity for course: CSE 401\n",
      "2025-04-20 23:35:09,075 - embedding_utils.py: jd_processor.py: Calculating similarity for course: CSE 403\n",
      "2025-04-20 23:35:09,076 - embedding_utils.py: jd_processor.py: Calculating similarity for course: CSE 431\n",
      "2025-04-20 23:35:09,077 - embedding_utils.py: jd_processor.py: Calculating similarity for course: CSE 440\n",
      "2025-04-20 23:35:09,078 - embedding_utils.py: jd_processor.py: Calculating similarity for course: CSE 442\n",
      "2025-04-20 23:35:09,079 - embedding_utils.py: jd_processor.py: Calculating similarity for course: CSE 444\n",
      "2025-04-20 23:35:09,080 - embedding_utils.py: jd_processor.py: Calculating similarity for course: CSE 446\n",
      "2025-04-20 23:35:09,081 - embedding_utils.py: jd_processor.py: Calculating similarity for course: CSE 447\n",
      "2025-04-20 23:35:09,082 - embedding_utils.py: jd_processor.py: Calculating similarity for course: CSE 451\n",
      "2025-04-20 23:35:09,083 - embedding_utils.py: jd_processor.py: Calculating similarity for course: CSE 452\n",
      "2025-04-20 23:35:09,083 - embedding_utils.py: jd_processor.py: Calculating similarity for course: CSE 453\n",
      "2025-04-20 23:35:09,084 - embedding_utils.py: jd_processor.py: Calculating similarity for course: CSE 455\n",
      "2025-04-20 23:35:09,084 - embedding_utils.py: jd_processor.py: Calculating similarity for course: CSE 456\n",
      "2025-04-20 23:35:09,085 - embedding_utils.py: jd_processor.py: Calculating similarity for course: CSE 457\n",
      "2025-04-20 23:35:09,085 - embedding_utils.py: jd_processor.py: Calculating similarity for course: CSE 458\n",
      "2025-04-20 23:35:09,086 - embedding_utils.py: jd_processor.py: Calculating similarity for course: CSE 460\n",
      "2025-04-20 23:35:09,087 - embedding_utils.py: jd_processor.py: Calculating similarity for course: CSE 461\n",
      "2025-04-20 23:35:09,088 - embedding_utils.py: jd_processor.py: Calculating similarity for course: CSE 462\n",
      "2025-04-20 23:35:09,088 - embedding_utils.py: jd_processor.py: Calculating similarity for course: CSE 474\n",
      "2025-04-20 23:35:09,089 - embedding_utils.py: jd_processor.py: Calculating similarity for course: CSE 478\n",
      "2025-04-20 23:35:09,090 - embedding_utils.py: jd_processor.py: Calculating similarity for course: CSE 480\n",
      "2025-04-20 23:35:09,091 - embedding_utils.py: jd_processor.py: Calculating similarity for course: CSE 481A\n",
      "2025-04-20 23:35:09,092 - embedding_utils.py: jd_processor.py: Calculating similarity for course: CSE 481C\n",
      "2025-04-20 23:35:09,092 - embedding_utils.py: jd_processor.py: Calculating similarity for course: CSE 481DS\n",
      "2025-04-20 23:35:09,093 - embedding_utils.py: jd_processor.py: Calculating similarity for course: CSE 481L\n",
      "2025-04-20 23:35:09,094 - embedding_utils.py: jd_processor.py: Calculating similarity for course: CSE 481P\n"
     ]
    },
    {
     "name": "stdout",
     "output_type": "stream",
     "text": [
      "Counter({'CSE 371': 4, 'CSE 481A': 4, 'CSE 451': 4, 'CSE 442': 4, 'CSE 331': 3, 'CSE 474': 3, 'CSE 481C': 3, 'CSE 403': 2, 'CSE 440': 2, 'CSE 478': 2, 'CSE 351': 1, 'CSE 480': 1, 'CSE 481P': 1, 'CSE 122': 1, 'CSE 455': 1, 'CSE 481L': 1, 'CSE 369': 1, 'CSE 391': 1, 'CSE 462': 1})\n"
     ]
    }
   ],
   "source": [
    "import json\n",
    "import os\n",
    "os.environ[\"OPENAI_API_KEY\"] = \"Your OpenAI keyQcP8vb0r2Zo-FSpCbQuHwIQY4PxsoV4Y8fkI3KqWvWyHW3W_7oe5hoydoo_HRiB0zulrcjp7T3BlbkFJ9WFqsSl-YZnte-j1IDY6u0cLVpOpFPh4CEbVB-YZgCGUgzAIawK2SoshjIJb3vdq9HES-w3SkA\"\n",
    "from utils.analysis_utils import get_top_course_counts_across_rankings\n",
    "from scripts.jd_processor import match_jd_to_courses\n",
    "import sys\n",
    "sys.path.append(\"..\") \n",
    "\n",
    "# Load course embeddings\n",
    "with open('../data/course_embeddings_dict.json', 'r') as f:\n",
    "    course_embeddings_dict = json.load(f)\n",
    "\n",
    "\n",
    "# Load JD embeddings\n",
    "with open('/Users/hemantbothra/Library/CloudStorage/GoogleDrive-hbothra1@gmail.com/My Drive/Projects/studentAdvisorProject/jd_embedding.json', 'r') as f:\n",
    "    data = json.load(f)\n",
    "\n",
    "jd_embedding = json.loads(data[\"jd_embedding\"])\n",
    "\n",
    "# Match JD to courses and get rankings\n",
    "rankings = match_jd_to_courses(jd_embedding, course_embeddings_dict, top_n=100)\n",
    "\n",
    "# Get top course counts across rankings\n",
    "top_course_counts = get_top_course_counts_across_rankings(rankings,10)\n",
    "\n",
    "print(top_course_counts)"
   ]
  },
  {
   "cell_type": "code",
   "execution_count": null,
   "id": "84e20147",
   "metadata": {},
   "outputs": [],
   "source": []
  }
 ],
 "metadata": {
  "kernelspec": {
   "display_name": "Python 3",
   "language": "python",
   "name": "python3"
  },
  "language_info": {
   "codemirror_mode": {
    "name": "ipython",
    "version": 3
   },
   "file_extension": ".py",
   "mimetype": "text/x-python",
   "name": "python",
   "nbconvert_exporter": "python",
   "pygments_lexer": "ipython3",
   "version": "3.13.1"
  }
 },
 "nbformat": 4,
 "nbformat_minor": 5
}
